{
 "cells": [
  {
   "cell_type": "code",
   "execution_count": 11,
   "id": "00f29bd7",
   "metadata": {},
   "outputs": [],
   "source": [
    "import pandas as pd"
   ]
  },
  {
   "cell_type": "code",
   "execution_count": 12,
   "id": "1f1b4fd6",
   "metadata": {},
   "outputs": [],
   "source": [
    "data = pd.read_csv('spotify_millsongdata.csv')"
   ]
  },
  {
   "cell_type": "code",
   "execution_count": 13,
   "id": "89d34038",
   "metadata": {},
   "outputs": [
    {
     "data": {
      "text/html": [
       "<div>\n",
       "<style scoped>\n",
       "    .dataframe tbody tr th:only-of-type {\n",
       "        vertical-align: middle;\n",
       "    }\n",
       "\n",
       "    .dataframe tbody tr th {\n",
       "        vertical-align: top;\n",
       "    }\n",
       "\n",
       "    .dataframe thead th {\n",
       "        text-align: right;\n",
       "    }\n",
       "</style>\n",
       "<table border=\"1\" class=\"dataframe\">\n",
       "  <thead>\n",
       "    <tr style=\"text-align: right;\">\n",
       "      <th></th>\n",
       "      <th>artist</th>\n",
       "      <th>song</th>\n",
       "      <th>link</th>\n",
       "      <th>text</th>\n",
       "    </tr>\n",
       "  </thead>\n",
       "  <tbody>\n",
       "    <tr>\n",
       "      <th>0</th>\n",
       "      <td>ABBA</td>\n",
       "      <td>Ahe's My Kind Of Girl</td>\n",
       "      <td>/a/abba/ahes+my+kind+of+girl_20598417.html</td>\n",
       "      <td>Look at her face, it's a wonderful face  \\r\\nA...</td>\n",
       "    </tr>\n",
       "    <tr>\n",
       "      <th>1</th>\n",
       "      <td>ABBA</td>\n",
       "      <td>Andante, Andante</td>\n",
       "      <td>/a/abba/andante+andante_20002708.html</td>\n",
       "      <td>Take it easy with me, please  \\r\\nTouch me gen...</td>\n",
       "    </tr>\n",
       "    <tr>\n",
       "      <th>2</th>\n",
       "      <td>ABBA</td>\n",
       "      <td>As Good As New</td>\n",
       "      <td>/a/abba/as+good+as+new_20003033.html</td>\n",
       "      <td>I'll never know why I had to go  \\r\\nWhy I had...</td>\n",
       "    </tr>\n",
       "    <tr>\n",
       "      <th>3</th>\n",
       "      <td>ABBA</td>\n",
       "      <td>Bang</td>\n",
       "      <td>/a/abba/bang_20598415.html</td>\n",
       "      <td>Making somebody happy is a question of give an...</td>\n",
       "    </tr>\n",
       "    <tr>\n",
       "      <th>4</th>\n",
       "      <td>ABBA</td>\n",
       "      <td>Bang-A-Boomerang</td>\n",
       "      <td>/a/abba/bang+a+boomerang_20002668.html</td>\n",
       "      <td>Making somebody happy is a question of give an...</td>\n",
       "    </tr>\n",
       "  </tbody>\n",
       "</table>\n",
       "</div>"
      ],
      "text/plain": [
       "  artist                   song                                        link  \\\n",
       "0   ABBA  Ahe's My Kind Of Girl  /a/abba/ahes+my+kind+of+girl_20598417.html   \n",
       "1   ABBA       Andante, Andante       /a/abba/andante+andante_20002708.html   \n",
       "2   ABBA         As Good As New        /a/abba/as+good+as+new_20003033.html   \n",
       "3   ABBA                   Bang                  /a/abba/bang_20598415.html   \n",
       "4   ABBA       Bang-A-Boomerang      /a/abba/bang+a+boomerang_20002668.html   \n",
       "\n",
       "                                                text  \n",
       "0  Look at her face, it's a wonderful face  \\r\\nA...  \n",
       "1  Take it easy with me, please  \\r\\nTouch me gen...  \n",
       "2  I'll never know why I had to go  \\r\\nWhy I had...  \n",
       "3  Making somebody happy is a question of give an...  \n",
       "4  Making somebody happy is a question of give an...  "
      ]
     },
     "execution_count": 13,
     "metadata": {},
     "output_type": "execute_result"
    }
   ],
   "source": [
    "data.head()"
   ]
  },
  {
   "cell_type": "code",
   "execution_count": 14,
   "id": "bae3fb2a",
   "metadata": {},
   "outputs": [
    {
     "data": {
      "text/plain": [
       "(57650, 4)"
      ]
     },
     "execution_count": 14,
     "metadata": {},
     "output_type": "execute_result"
    }
   ],
   "source": [
    "data.shape"
   ]
  },
  {
   "cell_type": "code",
   "execution_count": 15,
   "id": "6ef3a4ff",
   "metadata": {},
   "outputs": [
    {
     "data": {
      "text/plain": [
       "artist    0\n",
       "song      0\n",
       "link      0\n",
       "text      0\n",
       "dtype: int64"
      ]
     },
     "execution_count": 15,
     "metadata": {},
     "output_type": "execute_result"
    }
   ],
   "source": [
    "data.isnull().sum()"
   ]
  },
  {
   "cell_type": "code",
   "execution_count": 16,
   "id": "bc862e84",
   "metadata": {},
   "outputs": [],
   "source": [
    "data = data.sample(5000).drop('link',axis=1).reset_index(drop=True)"
   ]
  },
  {
   "cell_type": "code",
   "execution_count": 17,
   "id": "f09a0590",
   "metadata": {},
   "outputs": [
    {
     "data": {
      "text/html": [
       "<div>\n",
       "<style scoped>\n",
       "    .dataframe tbody tr th:only-of-type {\n",
       "        vertical-align: middle;\n",
       "    }\n",
       "\n",
       "    .dataframe tbody tr th {\n",
       "        vertical-align: top;\n",
       "    }\n",
       "\n",
       "    .dataframe thead th {\n",
       "        text-align: right;\n",
       "    }\n",
       "</style>\n",
       "<table border=\"1\" class=\"dataframe\">\n",
       "  <thead>\n",
       "    <tr style=\"text-align: right;\">\n",
       "      <th></th>\n",
       "      <th>artist</th>\n",
       "      <th>song</th>\n",
       "      <th>text</th>\n",
       "    </tr>\n",
       "  </thead>\n",
       "  <tbody>\n",
       "    <tr>\n",
       "      <th>4995</th>\n",
       "      <td>Hanson</td>\n",
       "      <td>Speechless</td>\n",
       "      <td>Everybody wonders and some people know  \\r\\nI ...</td>\n",
       "    </tr>\n",
       "    <tr>\n",
       "      <th>4996</th>\n",
       "      <td>Dewa 19</td>\n",
       "      <td>Sayap-Sayap Patah</td>\n",
       "      <td>Angin tolonglah aku sedang jatuh cinta  \\r\\nTa...</td>\n",
       "    </tr>\n",
       "    <tr>\n",
       "      <th>4997</th>\n",
       "      <td>Bing Crosby</td>\n",
       "      <td>On A Slow Boat To China</td>\n",
       "      <td>I'd like to get you on a slow boat to China  \\...</td>\n",
       "    </tr>\n",
       "    <tr>\n",
       "      <th>4998</th>\n",
       "      <td>Billie Holiday</td>\n",
       "      <td>God Bless The Child</td>\n",
       "      <td>Them that's got shall have  \\r\\nThem that's no...</td>\n",
       "    </tr>\n",
       "    <tr>\n",
       "      <th>4999</th>\n",
       "      <td>Hillsong United</td>\n",
       "      <td>Go</td>\n",
       "      <td>We're giving it all away, away  \\r\\nGiving it ...</td>\n",
       "    </tr>\n",
       "  </tbody>\n",
       "</table>\n",
       "</div>"
      ],
      "text/plain": [
       "               artist                     song  \\\n",
       "4995           Hanson               Speechless   \n",
       "4996          Dewa 19        Sayap-Sayap Patah   \n",
       "4997      Bing Crosby  On A Slow Boat To China   \n",
       "4998   Billie Holiday      God Bless The Child   \n",
       "4999  Hillsong United                       Go   \n",
       "\n",
       "                                                   text  \n",
       "4995  Everybody wonders and some people know  \\r\\nI ...  \n",
       "4996  Angin tolonglah aku sedang jatuh cinta  \\r\\nTa...  \n",
       "4997  I'd like to get you on a slow boat to China  \\...  \n",
       "4998  Them that's got shall have  \\r\\nThem that's no...  \n",
       "4999  We're giving it all away, away  \\r\\nGiving it ...  "
      ]
     },
     "execution_count": 17,
     "metadata": {},
     "output_type": "execute_result"
    }
   ],
   "source": [
    "data.tail()"
   ]
  },
  {
   "cell_type": "code",
   "execution_count": 18,
   "id": "1f06a18e",
   "metadata": {},
   "outputs": [
    {
     "data": {
      "text/plain": [
       "\"If you've ever had  \\r\\nA broken heart  \\r\\nYou promise yourself  \\r\\nTo never let it happen again  \\r\\nDdon't wanna think about it  \\r\\nDon't wanna dream about it  \\r\\nBut it finds  \\r\\nIt's way back into your head  \\r\\n  \\r\\nThe i love you' 's  \\r\\nThe i need you' 's  \\r\\nThey're only words  \\r\\nThat people say  \\r\\nThey're just words  \\r\\nWhen they're hand in hand  \\r\\nWith the games that people play  \\r\\n  \\r\\nIf i never see  \\r\\nThe top of a mountain  \\r\\nIf i never set  \\r\\nOne foot in the sea  \\r\\nI promise you  \\r\\nI'll love you forever  \\r\\nYou'll always be  \\r\\nThe biggest part of me  \\r\\n  \\r\\n[Chorus:]  \\r\\nWherever you go  \\r\\nWhatever you do  \\r\\nI will follow  \\r\\nYou've changed the way  \\r\\nThat i need to think  \\r\\nIn promise you  \\r\\nI'll love you forever  \\r\\nYou'll always be  \\r\\nThe biggest part of me  \\r\\n  \\r\\nTake a look at me  \\r\\nI let you have my heart  \\r\\nI swore i'd never let it  \\r\\nHappen again  \\r\\nI'm not mad about it  \\r\\nBut i know on you girl  \\r\\nI can depend  \\r\\n  \\r\\n'I love you' 's  \\r\\n'I need you' 's  \\r\\nAre only words  \\r\\nThat people say  \\r\\nThey're just words  \\r\\nWhen they're hand in hand  \\r\\nWith the games  \\r\\nThat people play  \\r\\n  \\r\\nIf i never see  \\r\\nThe top of a mountain  \\r\\nIf i never set  \\r\\nOne foot in the sea  \\r\\nI promise you  \\r\\nI'll love you forever  \\r\\nYou'll always be  \\r\\nThe biggest part of me  \\r\\n  \\r\\n(Chorus)  \\r\\n  \\r\\nI believe  \\r\\nYes, i believe  \\r\\nI believe in love again  \\r\\nAnd i swear  \\r\\nI'll always be there  \\r\\nIsn't that the way  \\r\\nThat it should be?  \\r\\n  \\r\\nIf i never see  \\r\\nThe top of a mountain  \\r\\nIf i never set  \\r\\nOne foot in the see\\r\\n\\r\\n\""
      ]
     },
     "execution_count": 18,
     "metadata": {},
     "output_type": "execute_result"
    }
   ],
   "source": [
    "data['text'][0]"
   ]
  },
  {
   "cell_type": "code",
   "execution_count": 19,
   "id": "b768b4f7",
   "metadata": {},
   "outputs": [
    {
     "data": {
      "text/plain": [
       "(5000, 3)"
      ]
     },
     "execution_count": 19,
     "metadata": {},
     "output_type": "execute_result"
    }
   ],
   "source": [
    "data.shape"
   ]
  },
  {
   "cell_type": "markdown",
   "id": "a73e6ad8",
   "metadata": {},
   "source": [
    "# data preprocessing"
   ]
  },
  {
   "cell_type": "code",
   "execution_count": 20,
   "id": "b668b0f9",
   "metadata": {},
   "outputs": [],
   "source": [
    "data['text'] = data['text'].str.lower().replace(r'^\\w\\s','').replace(r'\\n','',regex=True)"
   ]
  },
  {
   "cell_type": "code",
   "execution_count": 21,
   "id": "f03ac3b0",
   "metadata": {},
   "outputs": [],
   "source": [
    "import nltk\n",
    "from nltk.stem.porter import PorterStemmer"
   ]
  },
  {
   "cell_type": "markdown",
   "id": "969fc943",
   "metadata": {},
   "source": [
    "# Tokenization"
   ]
  },
  {
   "cell_type": "code",
   "execution_count": 22,
   "id": "b242c46e",
   "metadata": {},
   "outputs": [],
   "source": [
    "stemmer = PorterStemmer()"
   ]
  },
  {
   "cell_type": "code",
   "execution_count": 23,
   "id": "034891bf",
   "metadata": {},
   "outputs": [],
   "source": [
    "def token(txt):\n",
    "    token = nltk.word_tokenize(txt)\n",
    "    a = [stemmer.stem(w) for w in token]\n",
    "    return \" \".join(a)"
   ]
  },
  {
   "cell_type": "code",
   "execution_count": 24,
   "id": "57f6492d",
   "metadata": {},
   "outputs": [
    {
     "data": {
      "text/plain": [
       "0       if you 've ever had a broken heart you promis ...\n",
       "1       plead with my saint wash hi hand and feet find...\n",
       "2       yeah hi guitar swung across hi back hi dusti b...\n",
       "3       there 's a littl ditti they 're singin ' in th...\n",
       "4       [ choru : ] just got me a crib and a new car t...\n",
       "                              ...                        \n",
       "4995    everybodi wonder and some peopl know i guess t...\n",
       "4996    angin tolonglah aku sedang jatuh cinta tapi ak...\n",
       "4997    i 'd like to get you on a slow boat to china a...\n",
       "4998    them that 's got shall have them that 's not s...\n",
       "4999    we 're give it all away , away give it all to ...\n",
       "Name: text, Length: 5000, dtype: object"
      ]
     },
     "execution_count": 24,
     "metadata": {},
     "output_type": "execute_result"
    }
   ],
   "source": [
    "data['text'].apply(lambda x: token(x))"
   ]
  },
  {
   "cell_type": "code",
   "execution_count": 25,
   "id": "ba5ba6ee",
   "metadata": {},
   "outputs": [],
   "source": [
    "from sklearn.feature_extraction.text import TfidfVectorizer\n",
    "from sklearn.metrics.pairwise import cosine_similarity"
   ]
  },
  {
   "cell_type": "code",
   "execution_count": 26,
   "id": "4676447b",
   "metadata": {},
   "outputs": [],
   "source": [
    "tfid = TfidfVectorizer(analyzer='word',stop_words='english')"
   ]
  },
  {
   "cell_type": "code",
   "execution_count": 27,
   "id": "d65899fa",
   "metadata": {},
   "outputs": [],
   "source": [
    "matrix = tfid.fit_transform(data['text'])"
   ]
  },
  {
   "cell_type": "code",
   "execution_count": 28,
   "id": "e8976ad2",
   "metadata": {},
   "outputs": [],
   "source": [
    "similar = cosine_similarity(matrix)"
   ]
  },
  {
   "cell_type": "code",
   "execution_count": 29,
   "id": "f9ab91a8",
   "metadata": {},
   "outputs": [
    {
     "data": {
      "text/plain": [
       "array([0.051735  , 1.        , 0.01210809, ..., 0.01360384, 0.01923144,\n",
       "       0.00926025])"
      ]
     },
     "execution_count": 29,
     "metadata": {},
     "output_type": "execute_result"
    }
   ],
   "source": [
    "similar[1]"
   ]
  },
  {
   "cell_type": "code",
   "execution_count": 30,
   "id": "72919d0e",
   "metadata": {},
   "outputs": [
    {
     "ename": "IndexError",
     "evalue": "index 0 is out of bounds for axis 0 with size 0",
     "output_type": "error",
     "traceback": [
      "\u001b[1;31m---------------------------------------------------------------------------\u001b[0m",
      "\u001b[1;31mIndexError\u001b[0m                                Traceback (most recent call last)",
      "\u001b[1;32m~\\AppData\\Local\\Temp\\ipykernel_1112\\2880023146.py\u001b[0m in \u001b[0;36m<module>\u001b[1;34m\u001b[0m\n\u001b[1;32m----> 1\u001b[1;33m \u001b[0mdata\u001b[0m\u001b[1;33m[\u001b[0m\u001b[0mdata\u001b[0m\u001b[1;33m[\u001b[0m\u001b[1;34m'song'\u001b[0m\u001b[1;33m]\u001b[0m\u001b[1;33m==\u001b[0m \u001b[1;34m'I Can Only Give You Everything'\u001b[0m\u001b[1;33m]\u001b[0m\u001b[1;33m.\u001b[0m\u001b[0mindex\u001b[0m\u001b[1;33m[\u001b[0m\u001b[1;36m0\u001b[0m\u001b[1;33m]\u001b[0m\u001b[1;33m\u001b[0m\u001b[1;33m\u001b[0m\u001b[0m\n\u001b[0m",
      "\u001b[1;32m~\\anaconda3\\lib\\site-packages\\pandas\\core\\indexes\\base.py\u001b[0m in \u001b[0;36m__getitem__\u001b[1;34m(self, key)\u001b[0m\n\u001b[0;32m   5051\u001b[0m             \u001b[1;31m# GH#44051 exclude bool, which would return a 2d ndarray\u001b[0m\u001b[1;33m\u001b[0m\u001b[1;33m\u001b[0m\u001b[0m\n\u001b[0;32m   5052\u001b[0m             \u001b[0mkey\u001b[0m \u001b[1;33m=\u001b[0m \u001b[0mcom\u001b[0m\u001b[1;33m.\u001b[0m\u001b[0mcast_scalar_indexer\u001b[0m\u001b[1;33m(\u001b[0m\u001b[0mkey\u001b[0m\u001b[1;33m,\u001b[0m \u001b[0mwarn_float\u001b[0m\u001b[1;33m=\u001b[0m\u001b[1;32mTrue\u001b[0m\u001b[1;33m)\u001b[0m\u001b[1;33m\u001b[0m\u001b[1;33m\u001b[0m\u001b[0m\n\u001b[1;32m-> 5053\u001b[1;33m             \u001b[1;32mreturn\u001b[0m \u001b[0mgetitem\u001b[0m\u001b[1;33m(\u001b[0m\u001b[0mkey\u001b[0m\u001b[1;33m)\u001b[0m\u001b[1;33m\u001b[0m\u001b[1;33m\u001b[0m\u001b[0m\n\u001b[0m\u001b[0;32m   5054\u001b[0m \u001b[1;33m\u001b[0m\u001b[0m\n\u001b[0;32m   5055\u001b[0m         \u001b[1;32mif\u001b[0m \u001b[0misinstance\u001b[0m\u001b[1;33m(\u001b[0m\u001b[0mkey\u001b[0m\u001b[1;33m,\u001b[0m \u001b[0mslice\u001b[0m\u001b[1;33m)\u001b[0m\u001b[1;33m:\u001b[0m\u001b[1;33m\u001b[0m\u001b[1;33m\u001b[0m\u001b[0m\n",
      "\u001b[1;31mIndexError\u001b[0m: index 0 is out of bounds for axis 0 with size 0"
     ]
    }
   ],
   "source": [
    "data[data['song']== 'I Can Only Give You Everything'].index[0]"
   ]
  },
  {
   "cell_type": "markdown",
   "id": "46d4d05f",
   "metadata": {},
   "source": [
    "# Create Recommender Function"
   ]
  },
  {
   "cell_type": "code",
   "execution_count": 31,
   "id": "c7a32fbb",
   "metadata": {},
   "outputs": [],
   "source": [
    "def recommender(song_nam):\n",
    "    idx = data[data['song']== song_nam].index[0]\n",
    "    distance = sorted(list(enumerate(similar[idx])),reverse=True ,key = lambda x:x[1])\n",
    "    song = []\n",
    "    for s_id in distance[1:21]:\n",
    "        song.append(data.iloc[s_id[0]].song)\n",
    "    return song"
   ]
  },
  {
   "cell_type": "code",
   "execution_count": 32,
   "id": "6f5b775f",
   "metadata": {},
   "outputs": [
    {
     "data": {
      "text/plain": [
       "['Shine',\n",
       " 'We Are',\n",
       " 'Let Creation Sing',\n",
       " 'Light From Your Lighthouse',\n",
       " 'Hope Of The Broken World',\n",
       " 'Glory',\n",
       " 'Do What I Say',\n",
       " 'King Of All',\n",
       " \"The Sun Ain't Gonna Shine Anymore\",\n",
       " 'Let Your Soul Shine',\n",
       " 'Church On Fire',\n",
       " \"Jesus Don't Give Up On Me\",\n",
       " 'Rise Above',\n",
       " 'Fairest Lord Jesus',\n",
       " 'The Last Jesus',\n",
       " 'God Of Wonders',\n",
       " 'Shine, Shine, Shine',\n",
       " \"You're Everything\",\n",
       " 'Go',\n",
       " 'Never Be The Sun']"
      ]
     },
     "execution_count": 32,
     "metadata": {},
     "output_type": "execute_result"
    }
   ],
   "source": [
    "recommender('Shine')"
   ]
  },
  {
   "cell_type": "code",
   "execution_count": 33,
   "id": "bdb6984d",
   "metadata": {},
   "outputs": [],
   "source": [
    "import pickle"
   ]
  },
  {
   "cell_type": "code",
   "execution_count": 34,
   "id": "dae9083e",
   "metadata": {},
   "outputs": [],
   "source": [
    "pickle.dump(similar, open('similarity', 'wb'))"
   ]
  },
  {
   "cell_type": "code",
   "execution_count": 35,
   "id": "a1fca0cf",
   "metadata": {},
   "outputs": [],
   "source": [
    "pickle.dump(similar,open('similarity','wb'))"
   ]
  },
  {
   "cell_type": "code",
   "execution_count": null,
   "id": "1477887e",
   "metadata": {},
   "outputs": [],
   "source": []
  }
 ],
 "metadata": {
  "kernelspec": {
   "display_name": "Python 3 (ipykernel)",
   "language": "python",
   "name": "python3"
  },
  "language_info": {
   "codemirror_mode": {
    "name": "ipython",
    "version": 3
   },
   "file_extension": ".py",
   "mimetype": "text/x-python",
   "name": "python",
   "nbconvert_exporter": "python",
   "pygments_lexer": "ipython3",
   "version": "3.9.13"
  }
 },
 "nbformat": 4,
 "nbformat_minor": 5
}
